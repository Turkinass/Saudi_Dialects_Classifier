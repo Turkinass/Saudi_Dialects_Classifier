{
 "cells": [
  {
   "cell_type": "markdown",
   "metadata": {},
   "source": [
    "---\n",
    "title: \"Saudi Dialects Classifier\"\n",
    "author: \"Turki Alsaedi\"\n",
    "html:\n",
    "    toc: true\n",
    "    toc-depth: 2\n",
    "    toc-location: left\n",
    "    title-block-banner: true\n",
    "    title-block-banner: \"header.jpg\"\n",
    "jupyter: python3\n",
    "---"
   ]
  },
  {
   "cell_type": "markdown",
   "metadata": {},
   "source": [
    "## About\n",
    "A supervised ANN model that takes a given text and classifies it into one of Saudi Arabia's main regional dialects.\n",
    "\n",
    "## Background and Goal\n",
    "Saudi Arabia is one of the biggest countries in the world and thus has many regions each with it own dialect. Classifying a given text into its corresponding dialect can help better understand the meaning of the text and ideally help enable replying in the same dialect."
   ]
  },
  {
   "cell_type": "markdown",
   "metadata": {},
   "source": [
    "## Loading Libraries and Data"
   ]
  },
  {
   "cell_type": "code",
   "execution_count": 35,
   "metadata": {},
   "outputs": [],
   "source": [
    "import numpy as np\n",
    "import pandas as pd\n",
    "\n",
    "import re\n",
    "import pyarabic.araby as araby\n",
    "\n",
    "from sklearn.model_selection import train_test_split\n",
    "import tensorflow as tf\n",
    "from tensorflow.keras.preprocessing.text import Tokenizer\n",
    "\n",
    "import matplotlib.pyplot as plt"
   ]
  },
  {
   "cell_type": "code",
   "execution_count": 36,
   "metadata": {},
   "outputs": [],
   "source": [
    "data = pd.read_csv(\"data/data.csv\")"
   ]
  },
  {
   "cell_type": "code",
   "execution_count": 37,
   "metadata": {},
   "outputs": [],
   "source": [
    "data = data[[\"Embedded_text\", \"dialect\"]]"
   ]
  },
  {
   "cell_type": "code",
   "execution_count": 38,
   "metadata": {},
   "outputs": [
    {
     "data": {
      "text/html": [
       "<div>\n",
       "<style scoped>\n",
       "    .dataframe tbody tr th:only-of-type {\n",
       "        vertical-align: middle;\n",
       "    }\n",
       "\n",
       "    .dataframe tbody tr th {\n",
       "        vertical-align: top;\n",
       "    }\n",
       "\n",
       "    .dataframe thead th {\n",
       "        text-align: right;\n",
       "    }\n",
       "</style>\n",
       "<table border=\"1\" class=\"dataframe\">\n",
       "  <thead>\n",
       "    <tr style=\"text-align: right;\">\n",
       "      <th></th>\n",
       "      <th>Embedded_text</th>\n",
       "      <th>dialect</th>\n",
       "    </tr>\n",
       "  </thead>\n",
       "  <tbody>\n",
       "    <tr>\n",
       "      <th>0</th>\n",
       "      <td>بموت ، ايش هادا الغزل الرخيص ؟ ، بس معليش صادق...</td>\n",
       "      <td>H</td>\n",
       "    </tr>\n",
       "    <tr>\n",
       "      <th>1</th>\n",
       "      <td>ياربي معاتيه كل واحد يسوي مصيبه يزغرط يركب حصا...</td>\n",
       "      <td>W</td>\n",
       "    </tr>\n",
       "    <tr>\n",
       "      <th>2</th>\n",
       "      <td>ياروحي تتاكل ماشاء الله عليها، الله يحفظها ويخ...</td>\n",
       "      <td>H</td>\n",
       "    </tr>\n",
       "    <tr>\n",
       "      <th>3</th>\n",
       "      <td>جديًا هادا الاداء يفوز بقلبي اقسم بالله ، اتمن...</td>\n",
       "      <td>H</td>\n",
       "    </tr>\n",
       "    <tr>\n",
       "      <th>4</th>\n",
       "      <td>. https://twitter.com/bbhsparkles/status/99860...</td>\n",
       "      <td>NaN</td>\n",
       "    </tr>\n",
       "    <tr>\n",
       "      <th>...</th>\n",
       "      <td>...</td>\n",
       "      <td>...</td>\n",
       "    </tr>\n",
       "    <tr>\n",
       "      <th>5245</th>\n",
       "      <td>والغلط فالنهاية عليا انا</td>\n",
       "      <td>H</td>\n",
       "    </tr>\n",
       "    <tr>\n",
       "      <th>5246</th>\n",
       "      <td>الدُنيا بادية معايا تحدي ودي المرة بالقوي</td>\n",
       "      <td>H</td>\n",
       "    </tr>\n",
       "    <tr>\n",
       "      <th>5247</th>\n",
       "      <td>م كنت افهم لمن بعض الناس يغردو و يقولو النوم س...</td>\n",
       "      <td>H</td>\n",
       "    </tr>\n",
       "    <tr>\n",
       "      <th>5248</th>\n",
       "      <td>امـي هيا الشخص الوحيد الي اخوض معاها نقاش وادر...</td>\n",
       "      <td>H</td>\n",
       "    </tr>\n",
       "    <tr>\n",
       "      <th>5249</th>\n",
       "      <td>الجملة نرفزتني الصراحة يعني مدري افضل صاحية 24...</td>\n",
       "      <td>H</td>\n",
       "    </tr>\n",
       "  </tbody>\n",
       "</table>\n",
       "<p>5250 rows × 2 columns</p>\n",
       "</div>"
      ],
      "text/plain": [
       "                                          Embedded_text dialect\n",
       "0     بموت ، ايش هادا الغزل الرخيص ؟ ، بس معليش صادق...       H\n",
       "1     ياربي معاتيه كل واحد يسوي مصيبه يزغرط يركب حصا...       W\n",
       "2     ياروحي تتاكل ماشاء الله عليها، الله يحفظها ويخ...       H\n",
       "3     جديًا هادا الاداء يفوز بقلبي اقسم بالله ، اتمن...       H\n",
       "4     . https://twitter.com/bbhsparkles/status/99860...     NaN\n",
       "...                                                 ...     ...\n",
       "5245                           والغلط فالنهاية عليا انا       H\n",
       "5246          الدُنيا بادية معايا تحدي ودي المرة بالقوي       H\n",
       "5247  م كنت افهم لمن بعض الناس يغردو و يقولو النوم س...       H\n",
       "5248  امـي هيا الشخص الوحيد الي اخوض معاها نقاش وادر...       H\n",
       "5249  الجملة نرفزتني الصراحة يعني مدري افضل صاحية 24...       H\n",
       "\n",
       "[5250 rows x 2 columns]"
      ]
     },
     "execution_count": 38,
     "metadata": {},
     "output_type": "execute_result"
    }
   ],
   "source": [
    "data\n",
    "# H: Hijazi\n",
    "# N: Najdi\n",
    "# E: Eastern\n",
    "# S: Southern\n",
    "# W: White"
   ]
  },
  {
   "cell_type": "code",
   "execution_count": 39,
   "metadata": {},
   "outputs": [
    {
     "data": {
      "image/png": "[encoded data removed]",
      "text/plain": [
       "<Figure size 432x288 with 1 Axes>"
      ]
     },
     "metadata": {
      "needs_background": "light"
     },
     "output_type": "display_data"
    }
   ],
   "source": [
    "ax = data[\"dialect\"].value_counts(dropna=False).plot(kind='bar')\n",
    "ax.set_xticklabels([\"Southern\", \"White\", \"Hijazi\", \"NA\"]);"
   ]
  },
  {
   "cell_type": "code",
   "execution_count": 40,
   "metadata": {},
   "outputs": [
    {
     "data": {
      "text/html": [
       "<div>\n",
       "<style scoped>\n",
       "    .dataframe tbody tr th:only-of-type {\n",
       "        vertical-align: middle;\n",
       "    }\n",
       "\n",
       "    .dataframe tbody tr th {\n",
       "        vertical-align: top;\n",
       "    }\n",
       "\n",
       "    .dataframe thead th {\n",
       "        text-align: right;\n",
       "    }\n",
       "</style>\n",
       "<table border=\"1\" class=\"dataframe\">\n",
       "  <thead>\n",
       "    <tr style=\"text-align: right;\">\n",
       "      <th></th>\n",
       "      <th>Embedded_text</th>\n",
       "      <th>dialect</th>\n",
       "    </tr>\n",
       "  </thead>\n",
       "  <tbody>\n",
       "    <tr>\n",
       "      <th>0</th>\n",
       "      <td>بموت ، ايش هادا الغزل الرخيص ؟ ، بس معليش صادق...</td>\n",
       "      <td>H</td>\n",
       "    </tr>\n",
       "    <tr>\n",
       "      <th>1</th>\n",
       "      <td>ياربي معاتيه كل واحد يسوي مصيبه يزغرط يركب حصا...</td>\n",
       "      <td>W</td>\n",
       "    </tr>\n",
       "    <tr>\n",
       "      <th>2</th>\n",
       "      <td>ياروحي تتاكل ماشاء الله عليها، الله يحفظها ويخ...</td>\n",
       "      <td>H</td>\n",
       "    </tr>\n",
       "    <tr>\n",
       "      <th>3</th>\n",
       "      <td>جديًا هادا الاداء يفوز بقلبي اقسم بالله ، اتمن...</td>\n",
       "      <td>H</td>\n",
       "    </tr>\n",
       "    <tr>\n",
       "      <th>7</th>\n",
       "      <td>Replying to \\n@Layan_sami\\nالوانها واشكالها تف...</td>\n",
       "      <td>W</td>\n",
       "    </tr>\n",
       "    <tr>\n",
       "      <th>...</th>\n",
       "      <td>...</td>\n",
       "      <td>...</td>\n",
       "    </tr>\n",
       "    <tr>\n",
       "      <th>5245</th>\n",
       "      <td>والغلط فالنهاية عليا انا</td>\n",
       "      <td>H</td>\n",
       "    </tr>\n",
       "    <tr>\n",
       "      <th>5246</th>\n",
       "      <td>الدُنيا بادية معايا تحدي ودي المرة بالقوي</td>\n",
       "      <td>H</td>\n",
       "    </tr>\n",
       "    <tr>\n",
       "      <th>5247</th>\n",
       "      <td>م كنت افهم لمن بعض الناس يغردو و يقولو النوم س...</td>\n",
       "      <td>H</td>\n",
       "    </tr>\n",
       "    <tr>\n",
       "      <th>5248</th>\n",
       "      <td>امـي هيا الشخص الوحيد الي اخوض معاها نقاش وادر...</td>\n",
       "      <td>H</td>\n",
       "    </tr>\n",
       "    <tr>\n",
       "      <th>5249</th>\n",
       "      <td>الجملة نرفزتني الصراحة يعني مدري افضل صاحية 24...</td>\n",
       "      <td>H</td>\n",
       "    </tr>\n",
       "  </tbody>\n",
       "</table>\n",
       "<p>5189 rows × 2 columns</p>\n",
       "</div>"
      ],
      "text/plain": [
       "                                          Embedded_text dialect\n",
       "0     بموت ، ايش هادا الغزل الرخيص ؟ ، بس معليش صادق...       H\n",
       "1     ياربي معاتيه كل واحد يسوي مصيبه يزغرط يركب حصا...       W\n",
       "2     ياروحي تتاكل ماشاء الله عليها، الله يحفظها ويخ...       H\n",
       "3     جديًا هادا الاداء يفوز بقلبي اقسم بالله ، اتمن...       H\n",
       "7     Replying to \\n@Layan_sami\\nالوانها واشكالها تف...       W\n",
       "...                                                 ...     ...\n",
       "5245                           والغلط فالنهاية عليا انا       H\n",
       "5246          الدُنيا بادية معايا تحدي ودي المرة بالقوي       H\n",
       "5247  م كنت افهم لمن بعض الناس يغردو و يقولو النوم س...       H\n",
       "5248  امـي هيا الشخص الوحيد الي اخوض معاها نقاش وادر...       H\n",
       "5249  الجملة نرفزتني الصراحة يعني مدري افضل صاحية 24...       H\n",
       "\n",
       "[5189 rows x 2 columns]"
      ]
     },
     "execution_count": 40,
     "metadata": {},
     "output_type": "execute_result"
    }
   ],
   "source": [
    "data = data.dropna()\n",
    "data"
   ]
  },
  {
   "cell_type": "markdown",
   "metadata": {},
   "source": [
    "## Pre-processing tweets\n",
    "1. Remove any non-Arabic text\n",
    "2. Remove repeated characters\n",
    "3. Remove Arabicc diacritics (haraket, tatweel and hamza)\n",
    "4. Correct some spelling mistakes"
   ]
  },
  {
   "cell_type": "code",
   "execution_count": 41,
   "metadata": {},
   "outputs": [
    {
     "data": {
      "text/plain": [
       "'جدي ا هادا الاداء يفوز ب قلبــــي اقسم بالله اتمنننننى انهم يرجعو يأدوه'"
      ]
     },
     "execution_count": 41,
     "metadata": {},
     "output_type": "execute_result"
    }
   ],
   "source": [
    "# Removing any non-Arabic words/characters (English, emojis, special characters, etc...)\n",
    "txt = \"جديًا هادا الاداء يفوز ب قلبــــي اقسم بالله ، اتمنننننى انهم يرجعو يأدوه https://twitter.com/eklmre/status/999684853468626944… This Tweet is unavailab\"\n",
    "x = re.findall(\"[\\u0621-\\u064A]+\", txt)\n",
    "x = ' '.join(x)\n",
    "x"
   ]
  },
  {
   "cell_type": "code",
   "execution_count": 42,
   "metadata": {},
   "outputs": [
    {
     "data": {
      "text/plain": [
       "'جديًا هادا الاداء يفوز ب قلبـي اقسم باله ، اتمنى انهم يرجعو يأدوه htps:/twiter.com/eklmre/status/968485346862694… This Twet is unavailab'"
      ]
     },
     "execution_count": 42,
     "metadata": {},
     "output_type": "execute_result"
    }
   ],
   "source": [
    "# Remove repeated characters\n",
    "re.sub(r'(.)\\1+', r'\\1', txt)"
   ]
  },
  {
   "cell_type": "code",
   "execution_count": 43,
   "metadata": {},
   "outputs": [
    {
     "data": {
      "text/plain": [
       "'جديا هادا الاداء يفوز ب قلبــــي اقسم بالله ، اتمنننننى انهم يرجعو يأدوه https://twitter.com/eklmre/status/999684853468626944… This Tweet is unavailab'"
      ]
     },
     "execution_count": 43,
     "metadata": {},
     "output_type": "execute_result"
    }
   ],
   "source": [
    "# Remove diacritics and tatweel and hamza\n",
    "araby.strip_tashkeel(txt)"
   ]
  },
  {
   "cell_type": "code",
   "execution_count": 44,
   "metadata": {},
   "outputs": [
    {
     "data": {
      "text/plain": [
       "'جديًا هادا الاداء يفوز ب قلبي اقسم بالله ، اتمنننننى انهم يرجعو يأدوه https://twitter.com/eklmre/status/999684853468626944… This Tweet is unavailab'"
      ]
     },
     "execution_count": 44,
     "metadata": {},
     "output_type": "execute_result"
    }
   ],
   "source": [
    "araby.strip_tatweel(txt)"
   ]
  },
  {
   "cell_type": "code",
   "execution_count": 45,
   "metadata": {},
   "outputs": [
    {
     "data": {
      "text/plain": [
       "'جديًا هادا الاداء يفوز بقلبــــي اقسم بالله ، اتمنننننى انهم يرجعو يأدوه https://twitter.com/eklmre/status/999684853468626944… This Tweet is unavailab'"
      ]
     },
     "execution_count": 45,
     "metadata": {},
     "output_type": "execute_result"
    }
   ],
   "source": [
    "# Fix incorrect spelling\n",
    "txt.replace(\" ب \", \" ب\")"
   ]
  },
  {
   "cell_type": "code",
   "execution_count": 46,
   "metadata": {},
   "outputs": [
    {
     "data": {
      "text/plain": [
       "'جديًا هادا الاداء يفوز ب قلبــــي اقسم بالله ، اتمنننننى انهم يرجعو يأدوه https://twitter.com/eklmre/status/999684853468626944… This Tweet is unavailab'"
      ]
     },
     "execution_count": 46,
     "metadata": {},
     "output_type": "execute_result"
    }
   ],
   "source": [
    "txt.replace(\" م \", \" ما \")"
   ]
  },
  {
   "cell_type": "code",
   "execution_count": 47,
   "metadata": {},
   "outputs": [
    {
     "data": {
      "text/plain": [
       "'جديًا هادا الاداء يفوز ب قلبــــي اقسم بالله ، اتمنننننى انهم يرجعو يأدوه https://twitter.com/eklmre/status/999684853468626944… This Tweet is unavailab'"
      ]
     },
     "execution_count": 47,
     "metadata": {},
     "output_type": "execute_result"
    }
   ],
   "source": [
    "# unify Taa marbuta to avoid different spelling\n",
    "txt.replace(\"ة\", \"ه\")"
   ]
  },
  {
   "cell_type": "code",
   "execution_count": 48,
   "metadata": {},
   "outputs": [
    {
     "data": {
      "text/plain": [
       "'جديًا هادا الاداء يفوز ب قلبــــي اقسم بالله ، اتمنننننى انهم يرجعو يءدوه https://twitter.com/eklmre/status/999684853468626944… This Tweet is unavailab'"
      ]
     },
     "execution_count": 48,
     "metadata": {},
     "output_type": "execute_result"
    }
   ],
   "source": [
    "araby.normalize_hamza(txt)"
   ]
  },
  {
   "cell_type": "code",
   "execution_count": 49,
   "metadata": {},
   "outputs": [],
   "source": [
    "def process_text(txt):\n",
    "    txt = araby.strip_tashkeel(txt)\n",
    "    txt = txt.replace(\" م \", \" ما \")\n",
    "    txt = txt.replace(\"ة\", \"ه\")\n",
    "    for l in [\"ب\", \"ف\", \"و\", \"ك\",\"ما\"]:\n",
    "        if f\" {l} \" in txt:\n",
    "            txt = txt.replace(f\" {l} \", f\" {l}\")\n",
    "    txt = re.findall(\"[\\u0621-\\u064A]+\", txt)\n",
    "    txt = ' '.join(txt) \n",
    "    txt = re.sub(r'(.)\\1+', r'\\1', txt)\n",
    "    txt = araby.strip_tatweel(txt)\n",
    "    txt = araby.normalize_hamza(txt)\n",
    "    return txt"
   ]
  },
  {
   "cell_type": "code",
   "execution_count": 50,
   "metadata": {},
   "outputs": [
    {
     "name": "stdout",
     "output_type": "stream",
     "text": [
      "ORIGINAL TEXT\n",
      "جديًا هادا الاداء يفوز ب قلبــــي اقسم بالله ، اتمنننننى انهم يرجعو يأدوه https://twitter.com/eklmre/status/999684853468626944… This Tweet is unavailab\n",
      "\n",
      "PROCESSED TEXT\n",
      "جديا هادا الاداء يفوز بقلبي اقسم باله اتمنى انهم يرجعو يءدوه\n"
     ]
    }
   ],
   "source": [
    "# Example\n",
    "print(\"ORIGINAL TEXT\\n\" + txt + \"\\n\")\n",
    "print(\"PROCESSED TEXT\\n\"+ process_text(txt))"
   ]
  },
  {
   "cell_type": "code",
   "execution_count": null,
   "metadata": {},
   "outputs": [],
   "source": [
    "data[\"Embedded_text\"] = data[\"Embedded_text\"].apply(process_text)"
   ]
  },
  {
   "cell_type": "code",
   "execution_count": 52,
   "metadata": {},
   "outputs": [
    {
     "data": {
      "text/html": [
       "<div>\n",
       "<style scoped>\n",
       "    .dataframe tbody tr th:only-of-type {\n",
       "        vertical-align: middle;\n",
       "    }\n",
       "\n",
       "    .dataframe tbody tr th {\n",
       "        vertical-align: top;\n",
       "    }\n",
       "\n",
       "    .dataframe thead th {\n",
       "        text-align: right;\n",
       "    }\n",
       "</style>\n",
       "<table border=\"1\" class=\"dataframe\">\n",
       "  <thead>\n",
       "    <tr style=\"text-align: right;\">\n",
       "      <th></th>\n",
       "      <th>Embedded_text</th>\n",
       "      <th>dialect</th>\n",
       "    </tr>\n",
       "  </thead>\n",
       "  <tbody>\n",
       "    <tr>\n",
       "      <th>0</th>\n",
       "      <td>بموت ايش هادا الغزل الرخيص بس معليش صادقه واله...</td>\n",
       "      <td>H</td>\n",
       "    </tr>\n",
       "    <tr>\n",
       "      <th>1</th>\n",
       "      <td>ياربي معاتيه كل واحد يسوي مصيبه يزغرط يركب حصا...</td>\n",
       "      <td>W</td>\n",
       "    </tr>\n",
       "    <tr>\n",
       "      <th>2</th>\n",
       "      <td>ياروحي تاكل ماشاء اله عليها اله يحفظها ويخليها...</td>\n",
       "      <td>H</td>\n",
       "    </tr>\n",
       "    <tr>\n",
       "      <th>3</th>\n",
       "      <td>جديا هادا الاداء يفوز بقلبي اقسم باله اتمنى ان...</td>\n",
       "      <td>H</td>\n",
       "    </tr>\n",
       "    <tr>\n",
       "      <th>7</th>\n",
       "      <td>الوانها واشكالها تفتح النفس ماشاء اله</td>\n",
       "      <td>W</td>\n",
       "    </tr>\n",
       "    <tr>\n",
       "      <th>...</th>\n",
       "      <td>...</td>\n",
       "      <td>...</td>\n",
       "    </tr>\n",
       "    <tr>\n",
       "      <th>5245</th>\n",
       "      <td>والغلط فالنهايه عليا انا</td>\n",
       "      <td>H</td>\n",
       "    </tr>\n",
       "    <tr>\n",
       "      <th>5246</th>\n",
       "      <td>الدنيا باديه معايا تحدي ودي المره بالقوي</td>\n",
       "      <td>H</td>\n",
       "    </tr>\n",
       "    <tr>\n",
       "      <th>5247</th>\n",
       "      <td>م كنت افهم لمن بعض الناس يغردو ويقولو النوم سا...</td>\n",
       "      <td>H</td>\n",
       "    </tr>\n",
       "    <tr>\n",
       "      <th>5248</th>\n",
       "      <td>امي هيا الشخص الوحيد الي اخوض معاها نقاش وادري...</td>\n",
       "      <td>H</td>\n",
       "    </tr>\n",
       "    <tr>\n",
       "      <th>5249</th>\n",
       "      <td>الجمله نرفزتني الصراحه يعني مدري افضل صاحيه سا...</td>\n",
       "      <td>H</td>\n",
       "    </tr>\n",
       "  </tbody>\n",
       "</table>\n",
       "<p>4528 rows × 2 columns</p>\n",
       "</div>"
      ],
      "text/plain": [
       "                                          Embedded_text dialect\n",
       "0     بموت ايش هادا الغزل الرخيص بس معليش صادقه واله...       H\n",
       "1     ياربي معاتيه كل واحد يسوي مصيبه يزغرط يركب حصا...       W\n",
       "2     ياروحي تاكل ماشاء اله عليها اله يحفظها ويخليها...       H\n",
       "3     جديا هادا الاداء يفوز بقلبي اقسم باله اتمنى ان...       H\n",
       "7                 الوانها واشكالها تفتح النفس ماشاء اله       W\n",
       "...                                                 ...     ...\n",
       "5245                           والغلط فالنهايه عليا انا       H\n",
       "5246           الدنيا باديه معايا تحدي ودي المره بالقوي       H\n",
       "5247  م كنت افهم لمن بعض الناس يغردو ويقولو النوم سا...       H\n",
       "5248  امي هيا الشخص الوحيد الي اخوض معاها نقاش وادري...       H\n",
       "5249  الجمله نرفزتني الصراحه يعني مدري افضل صاحيه سا...       H\n",
       "\n",
       "[4528 rows x 2 columns]"
      ]
     },
     "execution_count": 52,
     "metadata": {},
     "output_type": "execute_result"
    }
   ],
   "source": [
    "# English-only text get converted to \"\" i.e.  empty string, this \n",
    "# function coverts it to NA then drop it using dropna()\n",
    "data = data.replace('', np.nan).dropna()\n",
    "data"
   ]
  },
  {
   "cell_type": "code",
   "execution_count": 53,
   "metadata": {},
   "outputs": [
    {
     "data": {
      "image/png": "[encoded data removed]",
      "text/plain": [
       "<Figure size 432x288 with 1 Axes>"
      ]
     },
     "metadata": {
      "needs_background": "light"
     },
     "output_type": "display_data"
    }
   ],
   "source": [
    "ax = data[\"dialect\"].value_counts(dropna=False).plot(kind='bar')\n",
    "ax.set_xticklabels([\"Southern\", \"White\", \"Hijazi\"]);"
   ]
  },
  {
   "cell_type": "markdown",
   "metadata": {},
   "source": [
    "## Modelling"
   ]
  },
  {
   "cell_type": "markdown",
   "metadata": {},
   "source": [
    "**Why no stemming, lemmatization and stop words?**\n",
    "1. stemming, lemmatization are only available for formal Arabic.\n",
    "2. stop words are important to identify dialects: usually هذا، هاذا، هادا etc is ignored."
   ]
  },
  {
   "cell_type": "code",
   "execution_count": 55,
   "metadata": {},
   "outputs": [],
   "source": [
    "# Splitting the data\n",
    "X = data['Embedded_text']\n",
    "y = data['dialect']\n",
    "\n",
    "X_train, X_test, y_train, y_test = train_test_split(X, y, test_size = 0.20, random_state = 123)"
   ]
  },
  {
   "cell_type": "code",
   "execution_count": 56,
   "metadata": {},
   "outputs": [],
   "source": [
    "# Tokenizing labels\n",
    "from sklearn.preprocessing import LabelEncoder\n",
    "le = LabelEncoder()\n",
    "y_train = le.fit_transform(y_train)\n",
    "y_test = le.transform(y_test)"
   ]
  },
  {
   "cell_type": "code",
   "execution_count": 57,
   "metadata": {},
   "outputs": [],
   "source": [
    "from tensorflow.keras.preprocessing.sequence import pad_sequences\n",
    "\n",
    "max_length = 100 # avg tweet has < 100 words\n",
    "\n",
    "# Tokenizing text\n",
    "tokenizer = Tokenizer(oov_token='<OOV>') # fill in words absent from corpus with <OOV> to keep text length\n",
    "tokenizer.fit_on_texts(X_train)\n",
    "\n",
    "# representing each text as a sequence of tokens\n",
    "train_sequence = tokenizer.texts_to_sequences(X_train)\n",
    "\n",
    "# padding each sequence with trailing zeros so that all sequence have same length\n",
    "train_pad = pad_sequences(train_sequence, maxlen=max_length, padding='post', truncating='post')\n",
    "\n",
    "test_sequence = tokenizer.texts_to_sequences(X_test)\n",
    "test_pad = pad_sequences(test_sequence, maxlen=max_length, padding='post', truncating='post')"
   ]
  },
  {
   "cell_type": "code",
   "execution_count": 58,
   "metadata": {},
   "outputs": [
    {
     "data": {
      "text/plain": [
       "{'<OOV>': 1,\n",
       " 'من': 2,\n",
       " 'اله': 3,\n",
       " 'في': 4,\n",
       " 'الهم': 5,\n",
       " 'على': 6,\n",
       " 'الي': 7,\n",
       " 'كل': 8,\n",
       " 'ه': 9,\n",
       " 'بس': 10}"
      ]
     },
     "execution_count": 58,
     "metadata": {},
     "output_type": "execute_result"
    }
   ],
   "source": [
    "# Most used words in all text\n",
    "dict(list(tokenizer.word_index.items())[0:10])"
   ]
  },
  {
   "cell_type": "code",
   "execution_count": 59,
   "metadata": {},
   "outputs": [],
   "source": [
    "# Defining hyperparamerts\n",
    "epochs = 10\n",
    "n_dim = 16\n",
    "training_size = X_train.shape[0]\n",
    "vocab_size = len(tokenizer.word_index) + 1 # zero indexed\n",
    "embedding_dim = 64"
   ]
  },
  {
   "cell_type": "code",
   "execution_count": 60,
   "metadata": {},
   "outputs": [
    {
     "name": "stdout",
     "output_type": "stream",
     "text": [
      "Model: \"sequential_1\"\n",
      "_________________________________________________________________\n",
      " Layer (type)                Output Shape              Param #   \n",
      "=================================================================\n",
      " embedding_1 (Embedding)     (None, None, 64)          704128    \n",
      "                                                                 \n",
      " bidirectional_1 (Bidirectio  (None, 128)              66048     \n",
      " nal)                                                            \n",
      "                                                                 \n",
      " dropout_1 (Dropout)         (None, 128)               0         \n",
      "                                                                 \n",
      " dense_1 (Dense)             (None, 3)                 387       \n",
      "                                                                 \n",
      "=================================================================\n",
      "Total params: 770,563\n",
      "Trainable params: 770,563\n",
      "Non-trainable params: 0\n",
      "_________________________________________________________________\n"
     ]
    }
   ],
   "source": [
    "model = tf.keras.Sequential([\n",
    "    tf.keras.layers.Embedding(vocab_size, embedding_dim),\n",
    "    tf.keras.layers.Bidirectional(tf.keras.layers.LSTM(embedding_dim)),\n",
    "    tf.keras.layers.Dropout(0.2),\n",
    "    tf.keras.layers.Dense(3, activation='softmax'),\n",
    "])\n",
    "model.summary()"
   ]
  },
  {
   "cell_type": "code",
   "execution_count": 61,
   "metadata": {},
   "outputs": [
    {
     "name": "stdout",
     "output_type": "stream",
     "text": [
      "Epoch 1/10\n",
      "114/114 - 14s - loss: 1.0174 - accuracy: 0.4666 - val_loss: 0.9266 - val_accuracy: 0.5563 - 14s/epoch - 121ms/step\n",
      "Epoch 2/10\n",
      "114/114 - 9s - loss: 0.6406 - accuracy: 0.7457 - val_loss: 0.7239 - val_accuracy: 0.7053 - 9s/epoch - 81ms/step\n",
      "Epoch 3/10\n",
      "114/114 - 9s - loss: 0.2604 - accuracy: 0.9117 - val_loss: 0.8475 - val_accuracy: 0.6887 - 9s/epoch - 76ms/step\n",
      "Epoch 4/10\n",
      "114/114 - 8s - loss: 0.1342 - accuracy: 0.9602 - val_loss: 0.9004 - val_accuracy: 0.6909 - 8s/epoch - 69ms/step\n",
      "Epoch 5/10\n",
      "114/114 - 8s - loss: 0.0761 - accuracy: 0.9785 - val_loss: 0.9417 - val_accuracy: 0.6865 - 8s/epoch - 72ms/step\n",
      "Epoch 6/10\n",
      "114/114 - 9s - loss: 0.0604 - accuracy: 0.9804 - val_loss: 1.1288 - val_accuracy: 0.6700 - 9s/epoch - 79ms/step\n",
      "Epoch 7/10\n",
      "114/114 - 9s - loss: 0.0517 - accuracy: 0.9843 - val_loss: 0.9937 - val_accuracy: 0.6876 - 9s/epoch - 78ms/step\n",
      "Epoch 8/10\n",
      "114/114 - 13s - loss: 0.0463 - accuracy: 0.9862 - val_loss: 1.0746 - val_accuracy: 0.6810 - 13s/epoch - 117ms/step\n",
      "Epoch 9/10\n",
      "114/114 - 9s - loss: 0.0414 - accuracy: 0.9870 - val_loss: 1.1379 - val_accuracy: 0.6744 - 9s/epoch - 78ms/step\n",
      "Epoch 10/10\n",
      "114/114 - 7s - loss: 0.0427 - accuracy: 0.9848 - val_loss: 1.0981 - val_accuracy: 0.6722 - 7s/epoch - 61ms/step\n"
     ]
    }
   ],
   "source": [
    "model.compile(loss='sparse_categorical_crossentropy', optimizer='adam', metrics=['accuracy'])\n",
    "history = model.fit(train_pad, y_train, epochs=epochs, validation_data=(test_pad, y_test), verbose=2)"
   ]
  },
  {
   "cell_type": "code",
   "execution_count": 62,
   "metadata": {},
   "outputs": [
    {
     "data": {
      "image/png": "[encoded data removed]",
      "text/plain": [
       "<Figure size 432x288 with 1 Axes>"
      ]
     },
     "metadata": {
      "needs_background": "light"
     },
     "output_type": "display_data"
    },
    {
     "data": {
      "image/png": "[encoded data removed]",
      "text/plain": [
       "<Figure size 432x288 with 1 Axes>"
      ]
     },
     "metadata": {
      "needs_background": "light"
     },
     "output_type": "display_data"
    }
   ],
   "source": [
    "def plot_graphs(history, string):\n",
    "  plt.plot(history.history[string])\n",
    "  plt.plot(history.history['val_'+string])\n",
    "  plt.xlabel(\"Epochs\")\n",
    "  plt.ylabel(string)\n",
    "  plt.legend([string, 'val_'+string])\n",
    "  plt.show()\n",
    "  \n",
    "plot_graphs(history, \"accuracy\")\n",
    "plot_graphs(history, \"loss\")"
   ]
  },
  {
   "cell_type": "markdown",
   "metadata": {},
   "source": [
    "Althrough we got a high accuracy, the validation accuracy is much lower which indicates an overfit model."
   ]
  },
  {
   "cell_type": "markdown",
   "metadata": {},
   "source": [
    "## Assumptions and Limitations\n",
    "1. Input text will be clean from other languages text or emojis\n",
    "2. For the input text to be classified accurately it should use same spelling used in training text"
   ]
  },
  {
   "cell_type": "markdown",
   "metadata": {},
   "source": [
    "## Future development\n",
    "1. Increase dataset size\n",
    "2. Manually check every entry\n",
    "3. Deploy the model"
   ]
  },
  {
   "cell_type": "markdown",
   "metadata": {},
   "source": [
    "## Conclusion\n",
    "Classifying an Arabic text and especially non formal Arabic is still a challenge due to the lack of tools and resources. Having it would make the process much smoother and yeilds overall better results."
   ]
  },
  {
   "cell_type": "markdown",
   "metadata": {},
   "source": [
    "## Source Code\n",
    "This report is hosted on Github Pages and the repo can be accessed via [this link](https://github.com/Turkinass/Saudi_Dialects_Classifier)."
   ]
  }
 ],
 "metadata": {
  "kernelspec": {
   "display_name": "Python 3.8.8 ('base')",
   "language": "python",
   "name": "python3"
  },
  "language_info": {
   "codemirror_mode": {
    "name": "ipython",
    "version": 3
   },
   "file_extension": ".py",
   "mimetype": "text/x-python",
   "name": "python",
   "nbconvert_exporter": "python",
   "pygments_lexer": "ipython3",
   "version": "3.8.8"
  },
  "orig_nbformat": 4,
  "vscode": {
   "interpreter": {
    "hash": "1d61f3848af0bc6739f3571790b7bfb264a7146bc11be5f0d4faf2663a127374"
   }
  }
 },
 "nbformat": 4,
 "nbformat_minor": 2
}
